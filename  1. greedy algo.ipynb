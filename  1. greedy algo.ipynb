{
 "cells": [
  {
   "cell_type": "code",
   "execution_count": 12,
   "metadata": {},
   "outputs": [
    {
     "name": "stdout",
     "output_type": "stream",
     "text": [
      "total value of item taken 284.0\n",
      "  burg:<100,354>\n",
      "  pizz:<95,258>\n",
      "  wine:<89,123>\n",
      "using cost\n",
      "total value of item taken 318.0\n",
      "  apl:<50,95>\n",
      "  wine:<89,123>\n",
      "  col:<79,150>\n",
      "  beer:<90,154>\n",
      "  donu:<10,195>\n"
     ]
    }
   ],
   "source": [
    "class food(object):\n",
    "    def __init__(self,n,v,c):\n",
    "        self.name=n\n",
    "        self.value=v\n",
    "        self.calorie=c\n",
    "    def getv(self):\n",
    "        return self.value\n",
    "    def getc(self):\n",
    "        return self.calorie\n",
    "    def getd(self):\n",
    "        return self.getv()/self.getc()\n",
    "    def __str__(self):\n",
    "        return self.name +':<'+str(self.value)+','+str(self.calorie)+'>'\n",
    "    \n",
    "def menu(name,value,calorie):\n",
    "    m=[]\n",
    "    for i in range(len(value)):\n",
    "        m.append(food(name[i],value[i],calorie[i]))\n",
    "    return m\n",
    "\n",
    "def greedy(items,maxc,keyf):\n",
    "    itemscopy=sorted(items,key=keyf,reverse=True)\n",
    "    result=[]\n",
    "    tv,tc=0.0,0.0\n",
    "    for i in range(len(itemscopy)):\n",
    "        if tc+itemscopy[i].getc()<=maxc:\n",
    "            result.append(itemscopy[i])\n",
    "            tc+=itemscopy[i].getc()\n",
    "            tv+=itemscopy[i].getv()\n",
    "    return (result,tv)\n",
    "\n",
    "def testgreedy(items,constr,keyf):\n",
    "    t,val=greedy(items,constr,keyf)\n",
    "    print('total value of item taken',val)\n",
    "    for item in t:\n",
    "        print(' ',item)\n",
    "        \n",
    "def testgreedys(foods,maxc):\n",
    "    testgreedy(foods,maxc,food.getv)\n",
    "    print('using cost')\n",
    "    testgreedy(foods,maxc,lambda x:1/food.getc(x))\n",
    "    \n",
    "name=['wine','beer','pizz','burg','frie','col','apl','donu','cake']\n",
    "value=[89,90,95,100,90,79,50,10]\n",
    "calorie=[123,154,258,354,365,150,95,195]\n",
    "foods=menu(name,value,calorie)\n",
    "testgreedys(foods,750)\n",
    "            \n",
    "        "
   ]
  },
  {
   "cell_type": "code",
   "execution_count": null,
   "metadata": {},
   "outputs": [],
   "source": []
  }
 ],
 "metadata": {
  "kernelspec": {
   "display_name": "Python 3",
   "language": "python",
   "name": "python3"
  },
  "language_info": {
   "codemirror_mode": {
    "name": "ipython",
    "version": 3
   },
   "file_extension": ".py",
   "mimetype": "text/x-python",
   "name": "python",
   "nbconvert_exporter": "python",
   "pygments_lexer": "ipython3",
   "version": "3.7.3"
  }
 },
 "nbformat": 4,
 "nbformat_minor": 2
}
